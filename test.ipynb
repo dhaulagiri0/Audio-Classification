{
 "cells": [
  {
   "cell_type": "code",
   "execution_count": 25,
   "metadata": {},
   "outputs": [],
   "source": [
    "from tensorflow.keras.layers import LayerNormalization\n",
    "import numpy as np"
   ]
  },
  {
   "cell_type": "code",
   "execution_count": 26,
   "metadata": {},
   "outputs": [
    {
     "data": {
      "text/plain": [
       "array([[[[49.44940413],\n",
       "         [32.84864438],\n",
       "         [94.27106281]],\n",
       "\n",
       "        [[67.82241501],\n",
       "         [55.95169523],\n",
       "         [85.90151619]],\n",
       "\n",
       "        [[72.95117523],\n",
       "         [14.73856976],\n",
       "         [28.03875385]]],\n",
       "\n",
       "\n",
       "       [[[70.82659542],\n",
       "         [75.81976801],\n",
       "         [ 9.26653031]],\n",
       "\n",
       "        [[90.82011622],\n",
       "         [68.48625856],\n",
       "         [68.23659441]],\n",
       "\n",
       "        [[73.88187488],\n",
       "         [66.45510233],\n",
       "         [ 9.94101007]]]])"
      ]
     },
     "execution_count": 26,
     "metadata": {},
     "output_type": "execute_result"
    }
   ],
   "source": [
    "arr = np.random.rand(2, 3, 3, 1) * 100\n",
    "arr"
   ]
  },
  {
   "cell_type": "code",
   "execution_count": 28,
   "metadata": {},
   "outputs": [
    {
     "data": {
      "text/plain": [
       "<tf.Tensor: shape=(2, 3, 3, 1), dtype=float32, numpy=\n",
       "array([[[[-1.38342   ],\n",
       "         [-0.0986774 ],\n",
       "         [ 0.84443593]],\n",
       "\n",
       "        [[ 0.43755198],\n",
       "         [ 1.2710965 ],\n",
       "         [ 0.5602255 ]],\n",
       "\n",
       "        [[ 0.94586897],\n",
       "         [-1.1724188 ],\n",
       "         [-1.4046609 ]]],\n",
       "\n",
       "\n",
       "       [[[-0.8736696 ],\n",
       "         [ 1.3837891 ],\n",
       "         [-0.7192719 ]],\n",
       "\n",
       "        [[ 1.3999062 ],\n",
       "         [-0.43941116],\n",
       "         [ 1.4141425 ]],\n",
       "\n",
       "        [[-0.52623653],\n",
       "         [-0.9443817 ],\n",
       "         [-0.6948706 ]]]], dtype=float32)>"
      ]
     },
     "execution_count": 28,
     "metadata": {},
     "output_type": "execute_result"
    }
   ],
   "source": [
    "LayerNormalization(axis=1)(arr)"
   ]
  }
 ],
 "metadata": {
  "interpreter": {
   "hash": "85cb736301af7e1b6709b49fc60afb49be5bef082d274cdc3be11fd0f47290d0"
  },
  "kernelspec": {
   "display_name": "Python 3.6.9 64-bit ('til2021': venv)",
   "name": "python3"
  },
  "language_info": {
   "codemirror_mode": {
    "name": "ipython",
    "version": 3
   },
   "file_extension": ".py",
   "mimetype": "text/x-python",
   "name": "python",
   "nbconvert_exporter": "python",
   "pygments_lexer": "ipython3",
   "version": "3.6.9"
  },
  "orig_nbformat": 4
 },
 "nbformat": 4,
 "nbformat_minor": 2
}