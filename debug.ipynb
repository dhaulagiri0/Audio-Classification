{
 "metadata": {
  "language_info": {
   "codemirror_mode": {
    "name": "ipython",
    "version": 3
   },
   "file_extension": ".py",
   "mimetype": "text/x-python",
   "name": "python",
   "nbconvert_exporter": "python",
   "pygments_lexer": "ipython3",
   "version": "3.6.9"
  },
  "orig_nbformat": 2,
  "kernelspec": {
   "name": "python369jvsc74a57bd01fb2310047675e34e61b7db9006858292a7dca5b23360a9774c1edb8344b0345",
   "display_name": "Python 3.6.9 64-bit ('til2021': venv)",
   "language": "python"
  }
 },
 "nbformat": 4,
 "nbformat_minor": 2,
 "cells": [
  {
   "cell_type": "code",
   "execution_count": 1,
   "metadata": {},
   "outputs": [],
   "source": [
    "import pickle\n",
    "import tensorflow as tf\n",
    "from tensorflow.keras.layers import Lambda\n",
    "from tensorflow.keras import Sequential, Model\n",
    "from kapre import backend\n",
    "from kapre.time_frequency import STFT, Magnitude, ApplyFilterbank, MagnitudeToDecibel\n",
    "from kapre.composed import get_melspectrogram_layer\n",
    "from scipy.io import wavfile\n",
    "import sys\n",
    "import numpy as np\n",
    "import librosa.display\n",
    "import matplotlib.pyplot as plt\n",
    "from augmentation_layers import RandomFreqMask, RandomTimeMask\n",
    "np.set_printoptions(threshold=10000, precision=10)"
   ]
  },
  {
   "cell_type": "code",
   "execution_count": 2,
   "metadata": {},
   "outputs": [],
   "source": [
    "input_shape=(22050,1)\n",
    "n_fft=2048\n",
    "win_length=int(25 * 22050 / 1000)\n",
    "hop_length=int(10 * 22050 / 1000)\n",
    "window_name=None\n",
    "pad_begin=False\n",
    "pad_end=True\n",
    "sample_rate=22050\n",
    "n_mels=128\n",
    "mel_f_min=0.0\n",
    "mel_f_max=None\n",
    "mel_htk=False\n",
    "mel_norm='slaney'\n",
    "return_decibel=True\n",
    "db_amin=1e-5\n",
    "db_ref_value=1.0\n",
    "db_dynamic_range=80.0\n",
    "input_data_format='channels_last'\n",
    "output_data_format='channels_last'"
   ]
  },
  {
   "cell_type": "code",
   "execution_count": 3,
   "metadata": {},
   "outputs": [],
   "source": [
    "backend.validate_data_format_str(input_data_format)\n",
    "backend.validate_data_format_str(output_data_format)\n",
    "waveform_to_stft = STFT(\n",
    "    input_shape=input_shape,\n",
    "    n_fft=2048,\n",
    "    win_length=win_length,\n",
    "    hop_length=hop_length,\n",
    "    window_name=window_name,\n",
    "    pad_begin=pad_begin,\n",
    "    pad_end=pad_end,\n",
    "    input_data_format=input_data_format,\n",
    "    output_data_format=output_data_format,\n",
    ")\n",
    "stft_to_stftm = Magnitude()\n",
    "kwargs = {\n",
    "    'sample_rate': sample_rate,\n",
    "    'n_freq': n_fft // 2 + 1,\n",
    "    'n_mels': n_mels,\n",
    "    'f_min': mel_f_min,\n",
    "    'f_max': mel_f_max,\n",
    "    'htk': mel_htk,\n",
    "    'norm': mel_norm,\n",
    "}\n",
    "stftm_to_melgram = ApplyFilterbank(\n",
    "    type='mel', filterbank_kwargs=kwargs, data_format=output_data_format\n",
    ")\n",
    "layers = [waveform_to_stft, stft_to_stftm, stftm_to_melgram]\n",
    "if return_decibel:\n",
    "    mag_to_decibel = MagnitudeToDecibel(\n",
    "        ref_value=db_ref_value, amin=db_amin, dynamic_range=db_dynamic_range\n",
    "    )\n",
    "    layers.append(mag_to_decibel)\n",
    "def norm_fn(x):\n",
    "    x = tf.cast(x, tf.float32)\n",
    "    mins = tf.reshape(tf.reduce_min(x, axis=[1, 2]), (-1, 1, 1))\n",
    "    maxes = tf.reshape(tf.reduce_max(x, axis=[1, 2]), (-1, 1, 1))\n",
    "    return 2 * (x - mins) / (maxes - mins) - 1\n",
    "norm_layer = Lambda(norm_fn)\n",
    "dataset = np.array(pickle.load(open('ds.pkl','rb')))"
   ]
  },
  {
   "cell_type": "code",
   "execution_count": 11,
   "metadata": {},
   "outputs": [
    {
     "output_type": "execute_result",
     "data": {
      "text/plain": [
       "<tf.Tensor: shape=(15, 101, 128, 1), dtype=float32, numpy=\n",
       "array([[[[ -3.8753777 ],\n",
       "         [ -7.4345036 ],\n",
       "         [-15.341567  ],\n",
       "         ...,\n",
       "         [-50.        ],\n",
       "         [-50.        ],\n",
       "         [-50.        ]],\n",
       "\n",
       "        [[ -3.871038  ],\n",
       "         [ -7.424719  ],\n",
       "         [-15.325297  ],\n",
       "         ...,\n",
       "         [-47.808765  ],\n",
       "         [-48.68805   ],\n",
       "         [-47.81392   ]],\n",
       "\n",
       "        [[ -3.8833997 ],\n",
       "         [ -7.4634523 ],\n",
       "         [-15.405401  ],\n",
       "         ...,\n",
       "         [-49.48317   ],\n",
       "         [-49.520954  ],\n",
       "         [-47.406487  ]],\n",
       "\n",
       "        ...,\n",
       "\n",
       "        [[ -3.8704028 ],\n",
       "         [ -7.346673  ],\n",
       "         [-15.038676  ],\n",
       "         ...,\n",
       "         [-39.2105    ],\n",
       "         [-39.225826  ],\n",
       "         [-39.237465  ]],\n",
       "\n",
       "        [[ -6.1569977 ],\n",
       "         [ -7.078888  ],\n",
       "         [ -8.851494  ],\n",
       "         ...,\n",
       "         [-29.811584  ],\n",
       "         [-29.827248  ],\n",
       "         [-29.838875  ]],\n",
       "\n",
       "        [[-25.826948  ],\n",
       "         [-25.716688  ],\n",
       "         [-25.75535   ],\n",
       "         ...,\n",
       "         [-40.896027  ],\n",
       "         [-40.91164   ],\n",
       "         [-40.923233  ]]],\n",
       "\n",
       "\n",
       "       [[[ -5.339188  ],\n",
       "         [ -8.898224  ],\n",
       "         [-16.809355  ],\n",
       "         ...,\n",
       "         [-48.756157  ],\n",
       "         [-49.7799    ],\n",
       "         [-49.881157  ]],\n",
       "\n",
       "        [[ -5.3249507 ],\n",
       "         [ -8.915366  ],\n",
       "         [-16.887136  ],\n",
       "         ...,\n",
       "         [-49.64775   ],\n",
       "         [-50.        ],\n",
       "         [-48.392754  ]],\n",
       "\n",
       "        [[ -5.2737837 ],\n",
       "         [ -8.686944  ],\n",
       "         [-16.256544  ],\n",
       "         ...,\n",
       "         [-48.36361   ],\n",
       "         [-48.839508  ],\n",
       "         [-46.5605    ]],\n",
       "\n",
       "        ...,\n",
       "\n",
       "        [[ -5.3346105 ],\n",
       "         [ -8.810544  ],\n",
       "         [-16.50159   ],\n",
       "         ...,\n",
       "         [-40.674675  ],\n",
       "         [-40.690388  ],\n",
       "         [-40.701885  ]],\n",
       "\n",
       "        [[ -7.622552  ],\n",
       "         [ -8.542761  ],\n",
       "         [-10.314606  ],\n",
       "         ...,\n",
       "         [-31.27597   ],\n",
       "         [-31.2915    ],\n",
       "         [-31.302965  ]],\n",
       "\n",
       "        [[-27.290272  ],\n",
       "         [-27.181488  ],\n",
       "         [-27.219063  ],\n",
       "         ...,\n",
       "         [-42.360252  ],\n",
       "         [-42.375965  ],\n",
       "         [-42.38754   ]]],\n",
       "\n",
       "\n",
       "       [[[ -6.5621305 ],\n",
       "         [-10.088373  ],\n",
       "         [-17.781994  ],\n",
       "         ...,\n",
       "         [-48.812138  ],\n",
       "         [-49.40489   ],\n",
       "         [-49.415737  ]],\n",
       "\n",
       "        [[ -6.6295266 ],\n",
       "         [-10.197004  ],\n",
       "         [-17.804932  ],\n",
       "         ...,\n",
       "         [-48.641186  ],\n",
       "         [-48.462887  ],\n",
       "         [-47.780502  ]],\n",
       "\n",
       "        [[ -6.5573673 ],\n",
       "         [ -9.936493  ],\n",
       "         [-16.835035  ],\n",
       "         ...,\n",
       "         [-47.991554  ],\n",
       "         [-48.388496  ],\n",
       "         [-49.219383  ]],\n",
       "\n",
       "        ...,\n",
       "\n",
       "        [[ -6.622034  ],\n",
       "         [-10.183592  ],\n",
       "         [-17.054789  ],\n",
       "         ...,\n",
       "         [-41.900963  ],\n",
       "         [-41.820152  ],\n",
       "         [-41.844383  ]],\n",
       "\n",
       "        [[ -8.829697  ],\n",
       "         [ -9.754567  ],\n",
       "         [-11.564512  ],\n",
       "         ...,\n",
       "         [-32.526722  ],\n",
       "         [-32.536327  ],\n",
       "         [-32.53589   ]],\n",
       "\n",
       "        [[-28.535194  ],\n",
       "         [-28.425785  ],\n",
       "         [-28.464205  ],\n",
       "         ...,\n",
       "         [-43.604618  ],\n",
       "         [-43.62022   ],\n",
       "         [-43.631596  ]]],\n",
       "\n",
       "\n",
       "       ...,\n",
       "\n",
       "\n",
       "       [[[  0.12814794],\n",
       "         [ -3.428923  ],\n",
       "         [-11.336023  ],\n",
       "         ...,\n",
       "         [-49.668655  ],\n",
       "         [-48.156773  ],\n",
       "         [-47.998653  ]],\n",
       "\n",
       "        [[  0.12740342],\n",
       "         [ -3.4315894 ],\n",
       "         [-11.348623  ],\n",
       "         ...,\n",
       "         [-48.177113  ],\n",
       "         [-48.307842  ],\n",
       "         [-50.        ]],\n",
       "\n",
       "        [[  0.13495223],\n",
       "         [ -3.4214878 ],\n",
       "         [-11.30918   ],\n",
       "         ...,\n",
       "         [-47.786236  ],\n",
       "         [-48.763092  ],\n",
       "         [-47.377136  ]],\n",
       "\n",
       "        ...,\n",
       "\n",
       "        [[  0.13442421],\n",
       "         [ -3.34168   ],\n",
       "         [-11.0337305 ],\n",
       "         ...,\n",
       "         [-35.205185  ],\n",
       "         [-35.220676  ],\n",
       "         [-35.232323  ]],\n",
       "\n",
       "        [[ -2.1523304 ],\n",
       "         [ -3.0726204 ],\n",
       "         [ -4.8453627 ],\n",
       "         ...,\n",
       "         [-25.806408  ],\n",
       "         [-25.822065  ],\n",
       "         [-25.833683  ]],\n",
       "\n",
       "        [[-21.821672  ],\n",
       "         [-21.712305  ],\n",
       "         [-21.74992   ],\n",
       "         ...,\n",
       "         [-36.890827  ],\n",
       "         [-36.906433  ],\n",
       "         [-36.917923  ]]],\n",
       "\n",
       "\n",
       "       [[[  6.1990013 ],\n",
       "         [  2.639351  ],\n",
       "         [ -5.2723417 ],\n",
       "         ...,\n",
       "         [-46.205208  ],\n",
       "         [-47.183872  ],\n",
       "         [-47.90588   ]],\n",
       "\n",
       "        [[  6.197113  ],\n",
       "         [  2.6355326 ],\n",
       "         [ -5.285245  ],\n",
       "         ...,\n",
       "         [-49.343178  ],\n",
       "         [-48.13278   ],\n",
       "         [-46.597767  ]],\n",
       "\n",
       "        [[  6.2034135 ],\n",
       "         [  2.6553295 ],\n",
       "         [ -5.2497525 ],\n",
       "         ...,\n",
       "         [-49.624405  ],\n",
       "         [-47.90939   ],\n",
       "         [-46.559616  ]],\n",
       "\n",
       "        ...,\n",
       "\n",
       "        [[  6.2037363 ],\n",
       "         [  2.727231  ],\n",
       "         [ -4.9638596 ],\n",
       "         ...,\n",
       "         [-29.135971  ],\n",
       "         [-29.151672  ],\n",
       "         [-29.163263  ]],\n",
       "\n",
       "        [[  3.9169    ],\n",
       "         [  2.9965963 ],\n",
       "         [  1.2236134 ],\n",
       "         ...,\n",
       "         [-19.737404  ],\n",
       "         [-19.752954  ],\n",
       "         [-19.764536  ]],\n",
       "\n",
       "        [[-15.752668  ],\n",
       "         [-15.642861  ],\n",
       "         [-15.681132  ],\n",
       "         ...,\n",
       "         [-30.821703  ],\n",
       "         [-30.837414  ],\n",
       "         [-30.848799  ]]],\n",
       "\n",
       "\n",
       "       [[[ -1.1610241 ],\n",
       "         [ -4.637244  ],\n",
       "         [-12.374607  ],\n",
       "         ...,\n",
       "         [-49.945187  ],\n",
       "         [-49.866585  ],\n",
       "         [-49.500698  ]],\n",
       "\n",
       "        [[ -1.1694572 ],\n",
       "         [ -4.7854476 ],\n",
       "         [-12.745138  ],\n",
       "         ...,\n",
       "         [-49.06935   ],\n",
       "         [-49.63112   ],\n",
       "         [-46.551468  ]],\n",
       "\n",
       "        [[ -1.1201519 ],\n",
       "         [ -4.659963  ],\n",
       "         [-12.528702  ],\n",
       "         ...,\n",
       "         [-47.54231   ],\n",
       "         [-49.43327   ],\n",
       "         [-48.127235  ]],\n",
       "\n",
       "        ...,\n",
       "\n",
       "        [[ -0.96435285],\n",
       "         [ -4.6976047 ],\n",
       "         [ -9.946035  ],\n",
       "         ...,\n",
       "         [-36.316395  ],\n",
       "         [-36.310783  ],\n",
       "         [-36.35143   ]],\n",
       "\n",
       "        [[ -3.0548046 ],\n",
       "         [ -4.0553956 ],\n",
       "         [ -5.997438  ],\n",
       "         ...,\n",
       "         [-26.918472  ],\n",
       "         [-26.924593  ],\n",
       "         [-26.949078  ]],\n",
       "\n",
       "        [[-22.266514  ],\n",
       "         [-22.154125  ],\n",
       "         [-22.187212  ],\n",
       "         ...,\n",
       "         [-37.994965  ],\n",
       "         [-38.009335  ],\n",
       "         [-38.02202   ]]]], dtype=float32)>"
      ]
     },
     "metadata": {},
     "execution_count": 11
    }
   ],
   "source": [
    "mag_to_decibel(stftm_to_melgram(stft_to_stftm(waveform_to_stft(norm_layer(dataset[0])))))"
   ]
  },
  {
   "cell_type": "code",
   "execution_count": 9,
   "metadata": {},
   "outputs": [],
   "source": [
    "stage3s = np.array([stftm_to_melgram(stft_to_stftm(waveform_to_stft(norm_layer(batch)))) for batch in dataset])"
   ]
  },
  {
   "cell_type": "code",
   "execution_count": 17,
   "metadata": {},
   "outputs": [
    {
     "output_type": "execute_result",
     "data": {
      "text/plain": [
       "101"
      ]
     },
     "metadata": {},
     "execution_count": 17
    }
   ],
   "source": [
    "stage3s.shape"
   ]
  },
  {
   "cell_type": "code",
   "execution_count": 18,
   "metadata": {},
   "outputs": [
    {
     "output_type": "execute_result",
     "data": {
      "text/plain": [
       "13.713059"
      ]
     },
     "metadata": {},
     "execution_count": 18
    }
   ],
   "source": [
    "np.max(stage3s)"
   ]
  },
  {
   "cell_type": "code",
   "execution_count": 19,
   "metadata": {},
   "outputs": [
    {
     "output_type": "execute_result",
     "data": {
      "text/plain": [
       "4.1761712e-11"
      ]
     },
     "metadata": {},
     "execution_count": 19
    }
   ],
   "source": [
    "np.min(stage3s)"
   ]
  },
  {
   "cell_type": "code",
   "execution_count": 20,
   "metadata": {},
   "outputs": [
    {
     "output_type": "execute_result",
     "data": {
      "text/plain": [
       "7.69109789189315e-08"
      ]
     },
     "metadata": {},
     "execution_count": 20
    }
   ],
   "source": [
    "np.percentile(stage3s,2)"
   ]
  },
  {
   "cell_type": "code",
   "execution_count": 35,
   "metadata": {},
   "outputs": [
    {
     "output_type": "execute_result",
     "data": {
      "text/plain": [
       "<matplotlib.colorbar.Colorbar at 0x7fea347a9160>"
      ]
     },
     "metadata": {},
     "execution_count": 35
    },
    {
     "output_type": "display_data",
     "data": {
      "text/plain": "<Figure size 432x288 with 2 Axes>",
      "image/svg+xml": "<?xml version=\"1.0\" encoding=\"utf-8\" standalone=\"no\"?>\n<!DOCTYPE svg PUBLIC \"-//W3C//DTD SVG 1.1//EN\"\n  \"http://www.w3.org/Graphics/SVG/1.1/DTD/svg11.dtd\">\n<!-- Created with matplotlib (https://matplotlib.org/) -->\n<svg height=\"262.19625pt\" version=\"1.1\" viewBox=\"0 0 395.700437 262.19625\" width=\"395.700437pt\" xmlns=\"http://www.w3.org/2000/svg\" xmlns:xlink=\"http://www.w3.org/1999/xlink\">\n <defs>\n  <style type=\"text/css\">\n*{stroke-linecap:butt;stroke-linejoin:round;}\n  </style>\n </defs>\n <g id=\"figure_1\">\n  <g id=\"patch_1\">\n   <path d=\"M 0 262.19625 \nL 395.700437 262.19625 \nL 395.700437 0 \nL 0 0 \nz\n\" style=\"fill:none;\"/>\n  </g>\n  <g id=\"axes_1\">\n   <g id=\"patch_2\">\n    <path d=\"M 53.328125 224.64 \nL 321.168125 224.64 \nL 321.168125 7.2 \nL 53.328125 7.2 \nz\n\" style=\"fill:#ffffff;\"/>\n   </g>\n   <image height=\"217\" id=\"image8e9cd2cc6c\" transform=\"scale(1 -1)translate(0 -217)\" width=\"268\" x=\"53\" xlink:href=\"data:image/png;base64,\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\" y=\"-7\"/>\n   <g id=\"matplotlib.axis_1\">\n    <g id=\"xtick_1\">\n     <g id=\"line2d_1\">\n      <defs>\n       <path d=\"M 0 0 \nL 0 3.5 \n\" id=\"m198f3e3c43\" style=\"stroke:#000000;stroke-width:0.8;\"/>\n      </defs>\n      <g>\n       <use style=\"stroke:#000000;stroke-width:0.8;\" x=\"53.328125\" xlink:href=\"#m198f3e3c43\" y=\"224.64\"/>\n      </g>\n     </g>\n     <g id=\"text_1\">\n      <!-- 0 -->\n      <defs>\n       <path d=\"M 31.78125 66.40625 \nQ 24.171875 66.40625 20.328125 58.90625 \nQ 16.5 51.421875 16.5 36.375 \nQ 16.5 21.390625 20.328125 13.890625 \nQ 24.171875 6.390625 31.78125 6.390625 \nQ 39.453125 6.390625 43.28125 13.890625 \nQ 47.125 21.390625 47.125 36.375 \nQ 47.125 51.421875 43.28125 58.90625 \nQ 39.453125 66.40625 31.78125 66.40625 \nz\nM 31.78125 74.21875 \nQ 44.046875 74.21875 50.515625 64.515625 \nQ 56.984375 54.828125 56.984375 36.375 \nQ 56.984375 17.96875 50.515625 8.265625 \nQ 44.046875 -1.421875 31.78125 -1.421875 \nQ 19.53125 -1.421875 13.0625 8.265625 \nQ 6.59375 17.96875 6.59375 36.375 \nQ 6.59375 54.828125 13.0625 64.515625 \nQ 19.53125 74.21875 31.78125 74.21875 \nz\n\" id=\"DejaVuSans-48\"/>\n      </defs>\n      <g transform=\"translate(50.146875 239.238437)scale(0.1 -0.1)\">\n       <use xlink:href=\"#DejaVuSans-48\"/>\n      </g>\n     </g>\n    </g>\n    <g id=\"xtick_2\">\n     <g id=\"line2d_2\">\n      <g>\n       <use style=\"stroke:#000000;stroke-width:0.8;\" x=\"84.78696\" xlink:href=\"#m198f3e3c43\" y=\"224.64\"/>\n      </g>\n     </g>\n     <g id=\"text_2\">\n      <!-- 0.15 -->\n      <defs>\n       <path d=\"M 10.6875 12.40625 \nL 21 12.40625 \nL 21 0 \nL 10.6875 0 \nz\n\" id=\"DejaVuSans-46\"/>\n       <path d=\"M 12.40625 8.296875 \nL 28.515625 8.296875 \nL 28.515625 63.921875 \nL 10.984375 60.40625 \nL 10.984375 69.390625 \nL 28.421875 72.90625 \nL 38.28125 72.90625 \nL 38.28125 8.296875 \nL 54.390625 8.296875 \nL 54.390625 0 \nL 12.40625 0 \nz\n\" id=\"DejaVuSans-49\"/>\n       <path d=\"M 10.796875 72.90625 \nL 49.515625 72.90625 \nL 49.515625 64.59375 \nL 19.828125 64.59375 \nL 19.828125 46.734375 \nQ 21.96875 47.46875 24.109375 47.828125 \nQ 26.265625 48.1875 28.421875 48.1875 \nQ 40.625 48.1875 47.75 41.5 \nQ 54.890625 34.8125 54.890625 23.390625 \nQ 54.890625 11.625 47.5625 5.09375 \nQ 40.234375 -1.421875 26.90625 -1.421875 \nQ 22.3125 -1.421875 17.546875 -0.640625 \nQ 12.796875 0.140625 7.71875 1.703125 \nL 7.71875 11.625 \nQ 12.109375 9.234375 16.796875 8.0625 \nQ 21.484375 6.890625 26.703125 6.890625 \nQ 35.15625 6.890625 40.078125 11.328125 \nQ 45.015625 15.765625 45.015625 23.390625 \nQ 45.015625 31 40.078125 35.4375 \nQ 35.15625 39.890625 26.703125 39.890625 \nQ 22.75 39.890625 18.8125 39.015625 \nQ 14.890625 38.140625 10.796875 36.28125 \nz\n\" id=\"DejaVuSans-53\"/>\n      </defs>\n      <g transform=\"translate(73.654148 239.238437)scale(0.1 -0.1)\">\n       <use xlink:href=\"#DejaVuSans-48\"/>\n       <use x=\"63.623047\" xlink:href=\"#DejaVuSans-46\"/>\n       <use x=\"95.410156\" xlink:href=\"#DejaVuSans-49\"/>\n       <use x=\"159.033203\" xlink:href=\"#DejaVuSans-53\"/>\n      </g>\n     </g>\n    </g>\n    <g id=\"xtick_3\">\n     <g id=\"line2d_3\">\n      <g>\n       <use style=\"stroke:#000000;stroke-width:0.8;\" x=\"116.245795\" xlink:href=\"#m198f3e3c43\" y=\"224.64\"/>\n      </g>\n     </g>\n     <g id=\"text_3\">\n      <!-- 0.3 -->\n      <defs>\n       <path d=\"M 40.578125 39.3125 \nQ 47.65625 37.796875 51.625 33 \nQ 55.609375 28.21875 55.609375 21.1875 \nQ 55.609375 10.40625 48.1875 4.484375 \nQ 40.765625 -1.421875 27.09375 -1.421875 \nQ 22.515625 -1.421875 17.65625 -0.515625 \nQ 12.796875 0.390625 7.625 2.203125 \nL 7.625 11.71875 \nQ 11.71875 9.328125 16.59375 8.109375 \nQ 21.484375 6.890625 26.8125 6.890625 \nQ 36.078125 6.890625 40.9375 10.546875 \nQ 45.796875 14.203125 45.796875 21.1875 \nQ 45.796875 27.640625 41.28125 31.265625 \nQ 36.765625 34.90625 28.71875 34.90625 \nL 20.21875 34.90625 \nL 20.21875 43.015625 \nL 29.109375 43.015625 \nQ 36.375 43.015625 40.234375 45.921875 \nQ 44.09375 48.828125 44.09375 54.296875 \nQ 44.09375 59.90625 40.109375 62.90625 \nQ 36.140625 65.921875 28.71875 65.921875 \nQ 24.65625 65.921875 20.015625 65.03125 \nQ 15.375 64.15625 9.8125 62.3125 \nL 9.8125 71.09375 \nQ 15.4375 72.65625 20.34375 73.4375 \nQ 25.25 74.21875 29.59375 74.21875 \nQ 40.828125 74.21875 47.359375 69.109375 \nQ 53.90625 64.015625 53.90625 55.328125 \nQ 53.90625 49.265625 50.4375 45.09375 \nQ 46.96875 40.921875 40.578125 39.3125 \nz\n\" id=\"DejaVuSans-51\"/>\n      </defs>\n      <g transform=\"translate(108.294233 239.238437)scale(0.1 -0.1)\">\n       <use xlink:href=\"#DejaVuSans-48\"/>\n       <use x=\"63.623047\" xlink:href=\"#DejaVuSans-46\"/>\n       <use x=\"95.410156\" xlink:href=\"#DejaVuSans-51\"/>\n      </g>\n     </g>\n    </g>\n    <g id=\"xtick_4\">\n     <g id=\"line2d_4\">\n      <g>\n       <use style=\"stroke:#000000;stroke-width:0.8;\" x=\"147.704631\" xlink:href=\"#m198f3e3c43\" y=\"224.64\"/>\n      </g>\n     </g>\n     <g id=\"text_4\">\n      <!-- 0.45 -->\n      <defs>\n       <path d=\"M 37.796875 64.3125 \nL 12.890625 25.390625 \nL 37.796875 25.390625 \nz\nM 35.203125 72.90625 \nL 47.609375 72.90625 \nL 47.609375 25.390625 \nL 58.015625 25.390625 \nL 58.015625 17.1875 \nL 47.609375 17.1875 \nL 47.609375 0 \nL 37.796875 0 \nL 37.796875 17.1875 \nL 4.890625 17.1875 \nL 4.890625 26.703125 \nz\n\" id=\"DejaVuSans-52\"/>\n      </defs>\n      <g transform=\"translate(136.571818 239.238437)scale(0.1 -0.1)\">\n       <use xlink:href=\"#DejaVuSans-48\"/>\n       <use x=\"63.623047\" xlink:href=\"#DejaVuSans-46\"/>\n       <use x=\"95.410156\" xlink:href=\"#DejaVuSans-52\"/>\n       <use x=\"159.033203\" xlink:href=\"#DejaVuSans-53\"/>\n      </g>\n     </g>\n    </g>\n    <g id=\"xtick_5\">\n     <g id=\"line2d_5\">\n      <g>\n       <use style=\"stroke:#000000;stroke-width:0.8;\" x=\"179.163466\" xlink:href=\"#m198f3e3c43\" y=\"224.64\"/>\n      </g>\n     </g>\n     <g id=\"text_5\">\n      <!-- 0.6 -->\n      <defs>\n       <path d=\"M 33.015625 40.375 \nQ 26.375 40.375 22.484375 35.828125 \nQ 18.609375 31.296875 18.609375 23.390625 \nQ 18.609375 15.53125 22.484375 10.953125 \nQ 26.375 6.390625 33.015625 6.390625 \nQ 39.65625 6.390625 43.53125 10.953125 \nQ 47.40625 15.53125 47.40625 23.390625 \nQ 47.40625 31.296875 43.53125 35.828125 \nQ 39.65625 40.375 33.015625 40.375 \nz\nM 52.59375 71.296875 \nL 52.59375 62.3125 \nQ 48.875 64.0625 45.09375 64.984375 \nQ 41.3125 65.921875 37.59375 65.921875 \nQ 27.828125 65.921875 22.671875 59.328125 \nQ 17.53125 52.734375 16.796875 39.40625 \nQ 19.671875 43.65625 24.015625 45.921875 \nQ 28.375 48.1875 33.59375 48.1875 \nQ 44.578125 48.1875 50.953125 41.515625 \nQ 57.328125 34.859375 57.328125 23.390625 \nQ 57.328125 12.15625 50.6875 5.359375 \nQ 44.046875 -1.421875 33.015625 -1.421875 \nQ 20.359375 -1.421875 13.671875 8.265625 \nQ 6.984375 17.96875 6.984375 36.375 \nQ 6.984375 53.65625 15.1875 63.9375 \nQ 23.390625 74.21875 37.203125 74.21875 \nQ 40.921875 74.21875 44.703125 73.484375 \nQ 48.484375 72.75 52.59375 71.296875 \nz\n\" id=\"DejaVuSans-54\"/>\n      </defs>\n      <g transform=\"translate(171.211903 239.238437)scale(0.1 -0.1)\">\n       <use xlink:href=\"#DejaVuSans-48\"/>\n       <use x=\"63.623047\" xlink:href=\"#DejaVuSans-46\"/>\n       <use x=\"95.410156\" xlink:href=\"#DejaVuSans-54\"/>\n      </g>\n     </g>\n    </g>\n    <g id=\"xtick_6\">\n     <g id=\"line2d_6\">\n      <g>\n       <use style=\"stroke:#000000;stroke-width:0.8;\" x=\"210.622301\" xlink:href=\"#m198f3e3c43\" y=\"224.64\"/>\n      </g>\n     </g>\n     <g id=\"text_6\">\n      <!-- 0.75 -->\n      <defs>\n       <path d=\"M 8.203125 72.90625 \nL 55.078125 72.90625 \nL 55.078125 68.703125 \nL 28.609375 0 \nL 18.3125 0 \nL 43.21875 64.59375 \nL 8.203125 64.59375 \nz\n\" id=\"DejaVuSans-55\"/>\n      </defs>\n      <g transform=\"translate(199.489489 239.238437)scale(0.1 -0.1)\">\n       <use xlink:href=\"#DejaVuSans-48\"/>\n       <use x=\"63.623047\" xlink:href=\"#DejaVuSans-46\"/>\n       <use x=\"95.410156\" xlink:href=\"#DejaVuSans-55\"/>\n       <use x=\"159.033203\" xlink:href=\"#DejaVuSans-53\"/>\n      </g>\n     </g>\n    </g>\n    <g id=\"xtick_7\">\n     <g id=\"line2d_7\">\n      <g>\n       <use style=\"stroke:#000000;stroke-width:0.8;\" x=\"242.081136\" xlink:href=\"#m198f3e3c43\" y=\"224.64\"/>\n      </g>\n     </g>\n     <g id=\"text_7\">\n      <!-- 0.9 -->\n      <defs>\n       <path d=\"M 10.984375 1.515625 \nL 10.984375 10.5 \nQ 14.703125 8.734375 18.5 7.8125 \nQ 22.3125 6.890625 25.984375 6.890625 \nQ 35.75 6.890625 40.890625 13.453125 \nQ 46.046875 20.015625 46.78125 33.40625 \nQ 43.953125 29.203125 39.59375 26.953125 \nQ 35.25 24.703125 29.984375 24.703125 \nQ 19.046875 24.703125 12.671875 31.3125 \nQ 6.296875 37.9375 6.296875 49.421875 \nQ 6.296875 60.640625 12.9375 67.421875 \nQ 19.578125 74.21875 30.609375 74.21875 \nQ 43.265625 74.21875 49.921875 64.515625 \nQ 56.59375 54.828125 56.59375 36.375 \nQ 56.59375 19.140625 48.40625 8.859375 \nQ 40.234375 -1.421875 26.421875 -1.421875 \nQ 22.703125 -1.421875 18.890625 -0.6875 \nQ 15.09375 0.046875 10.984375 1.515625 \nz\nM 30.609375 32.421875 \nQ 37.25 32.421875 41.125 36.953125 \nQ 45.015625 41.5 45.015625 49.421875 \nQ 45.015625 57.28125 41.125 61.84375 \nQ 37.25 66.40625 30.609375 66.40625 \nQ 23.96875 66.40625 20.09375 61.84375 \nQ 16.21875 57.28125 16.21875 49.421875 \nQ 16.21875 41.5 20.09375 36.953125 \nQ 23.96875 32.421875 30.609375 32.421875 \nz\n\" id=\"DejaVuSans-57\"/>\n      </defs>\n      <g transform=\"translate(234.129574 239.238437)scale(0.1 -0.1)\">\n       <use xlink:href=\"#DejaVuSans-48\"/>\n       <use x=\"63.623047\" xlink:href=\"#DejaVuSans-46\"/>\n       <use x=\"95.410156\" xlink:href=\"#DejaVuSans-57\"/>\n      </g>\n     </g>\n    </g>\n    <g id=\"xtick_8\">\n     <g id=\"line2d_8\">\n      <g>\n       <use style=\"stroke:#000000;stroke-width:0.8;\" x=\"273.539972\" xlink:href=\"#m198f3e3c43\" y=\"224.64\"/>\n      </g>\n     </g>\n     <g id=\"text_8\">\n      <!-- 1.1 -->\n      <g transform=\"translate(265.588409 239.238437)scale(0.1 -0.1)\">\n       <use xlink:href=\"#DejaVuSans-49\"/>\n       <use x=\"63.623047\" xlink:href=\"#DejaVuSans-46\"/>\n       <use x=\"95.410156\" xlink:href=\"#DejaVuSans-49\"/>\n      </g>\n     </g>\n    </g>\n    <g id=\"xtick_9\">\n     <g id=\"line2d_9\">\n      <g>\n       <use style=\"stroke:#000000;stroke-width:0.8;\" x=\"304.998807\" xlink:href=\"#m198f3e3c43\" y=\"224.64\"/>\n      </g>\n     </g>\n     <g id=\"text_9\">\n      <!-- 1.2 -->\n      <defs>\n       <path d=\"M 19.1875 8.296875 \nL 53.609375 8.296875 \nL 53.609375 0 \nL 7.328125 0 \nL 7.328125 8.296875 \nQ 12.9375 14.109375 22.625 23.890625 \nQ 32.328125 33.6875 34.8125 36.53125 \nQ 39.546875 41.84375 41.421875 45.53125 \nQ 43.3125 49.21875 43.3125 52.78125 \nQ 43.3125 58.59375 39.234375 62.25 \nQ 35.15625 65.921875 28.609375 65.921875 \nQ 23.96875 65.921875 18.8125 64.3125 \nQ 13.671875 62.703125 7.8125 59.421875 \nL 7.8125 69.390625 \nQ 13.765625 71.78125 18.9375 73 \nQ 24.125 74.21875 28.421875 74.21875 \nQ 39.75 74.21875 46.484375 68.546875 \nQ 53.21875 62.890625 53.21875 53.421875 \nQ 53.21875 48.921875 51.53125 44.890625 \nQ 49.859375 40.875 45.40625 35.40625 \nQ 44.1875 33.984375 37.640625 27.21875 \nQ 31.109375 20.453125 19.1875 8.296875 \nz\n\" id=\"DejaVuSans-50\"/>\n      </defs>\n      <g transform=\"translate(297.047244 239.238437)scale(0.1 -0.1)\">\n       <use xlink:href=\"#DejaVuSans-49\"/>\n       <use x=\"63.623047\" xlink:href=\"#DejaVuSans-46\"/>\n       <use x=\"95.410156\" xlink:href=\"#DejaVuSans-50\"/>\n      </g>\n     </g>\n    </g>\n    <g id=\"text_10\">\n     <!-- Time -->\n     <defs>\n      <path d=\"M -0.296875 72.90625 \nL 61.375 72.90625 \nL 61.375 64.59375 \nL 35.5 64.59375 \nL 35.5 0 \nL 25.59375 0 \nL 25.59375 64.59375 \nL -0.296875 64.59375 \nz\n\" id=\"DejaVuSans-84\"/>\n      <path d=\"M 9.421875 54.6875 \nL 18.40625 54.6875 \nL 18.40625 0 \nL 9.421875 0 \nz\nM 9.421875 75.984375 \nL 18.40625 75.984375 \nL 18.40625 64.59375 \nL 9.421875 64.59375 \nz\n\" id=\"DejaVuSans-105\"/>\n      <path d=\"M 52 44.1875 \nQ 55.375 50.25 60.0625 53.125 \nQ 64.75 56 71.09375 56 \nQ 79.640625 56 84.28125 50.015625 \nQ 88.921875 44.046875 88.921875 33.015625 \nL 88.921875 0 \nL 79.890625 0 \nL 79.890625 32.71875 \nQ 79.890625 40.578125 77.09375 44.375 \nQ 74.3125 48.1875 68.609375 48.1875 \nQ 61.625 48.1875 57.5625 43.546875 \nQ 53.515625 38.921875 53.515625 30.90625 \nL 53.515625 0 \nL 44.484375 0 \nL 44.484375 32.71875 \nQ 44.484375 40.625 41.703125 44.40625 \nQ 38.921875 48.1875 33.109375 48.1875 \nQ 26.21875 48.1875 22.15625 43.53125 \nQ 18.109375 38.875 18.109375 30.90625 \nL 18.109375 0 \nL 9.078125 0 \nL 9.078125 54.6875 \nL 18.109375 54.6875 \nL 18.109375 46.1875 \nQ 21.1875 51.21875 25.484375 53.609375 \nQ 29.78125 56 35.6875 56 \nQ 41.65625 56 45.828125 52.96875 \nQ 50 49.953125 52 44.1875 \nz\n\" id=\"DejaVuSans-109\"/>\n      <path d=\"M 56.203125 29.59375 \nL 56.203125 25.203125 \nL 14.890625 25.203125 \nQ 15.484375 15.921875 20.484375 11.0625 \nQ 25.484375 6.203125 34.421875 6.203125 \nQ 39.59375 6.203125 44.453125 7.46875 \nQ 49.3125 8.734375 54.109375 11.28125 \nL 54.109375 2.78125 \nQ 49.265625 0.734375 44.1875 -0.34375 \nQ 39.109375 -1.421875 33.890625 -1.421875 \nQ 20.796875 -1.421875 13.15625 6.1875 \nQ 5.515625 13.8125 5.515625 26.8125 \nQ 5.515625 40.234375 12.765625 48.109375 \nQ 20.015625 56 32.328125 56 \nQ 43.359375 56 49.78125 48.890625 \nQ 56.203125 41.796875 56.203125 29.59375 \nz\nM 47.21875 32.234375 \nQ 47.125 39.59375 43.09375 43.984375 \nQ 39.0625 48.390625 32.421875 48.390625 \nQ 24.90625 48.390625 20.390625 44.140625 \nQ 15.875 39.890625 15.1875 32.171875 \nz\n\" id=\"DejaVuSans-101\"/>\n     </defs>\n     <g transform=\"translate(174.860625 252.916562)scale(0.1 -0.1)\">\n      <use xlink:href=\"#DejaVuSans-84\"/>\n      <use x=\"61.037109\" xlink:href=\"#DejaVuSans-105\"/>\n      <use x=\"88.820312\" xlink:href=\"#DejaVuSans-109\"/>\n      <use x=\"186.232422\" xlink:href=\"#DejaVuSans-101\"/>\n     </g>\n    </g>\n   </g>\n   <g id=\"matplotlib.axis_2\">\n    <g id=\"ytick_1\">\n     <g id=\"line2d_10\">\n      <defs>\n       <path d=\"M 0 0 \nL -3.5 0 \n\" id=\"m5f47de9adc\" style=\"stroke:#000000;stroke-width:0.8;\"/>\n      </defs>\n      <g>\n       <use style=\"stroke:#000000;stroke-width:0.8;\" x=\"53.328125\" xlink:href=\"#m5f47de9adc\" y=\"224.64\"/>\n      </g>\n     </g>\n     <g id=\"text_11\">\n      <!-- 0 -->\n      <g transform=\"translate(39.965625 228.439219)scale(0.1 -0.1)\">\n       <use xlink:href=\"#DejaVuSans-48\"/>\n      </g>\n     </g>\n    </g>\n    <g id=\"ytick_2\">\n     <g id=\"line2d_11\">\n      <g>\n       <use style=\"stroke:#000000;stroke-width:0.8;\" x=\"53.328125\" xlink:href=\"#m5f47de9adc\" y=\"199.302236\"/>\n      </g>\n     </g>\n     <g id=\"text_12\">\n      <!-- 64 -->\n      <g transform=\"translate(33.603125 203.101455)scale(0.1 -0.1)\">\n       <use xlink:href=\"#DejaVuSans-54\"/>\n       <use x=\"63.623047\" xlink:href=\"#DejaVuSans-52\"/>\n      </g>\n     </g>\n    </g>\n    <g id=\"ytick_3\">\n     <g id=\"line2d_12\">\n      <g>\n       <use style=\"stroke:#000000;stroke-width:0.8;\" x=\"53.328125\" xlink:href=\"#m5f47de9adc\" y=\"173.662931\"/>\n      </g>\n     </g>\n     <g id=\"text_13\">\n      <!-- 128 -->\n      <defs>\n       <path d=\"M 31.78125 34.625 \nQ 24.75 34.625 20.71875 30.859375 \nQ 16.703125 27.09375 16.703125 20.515625 \nQ 16.703125 13.921875 20.71875 10.15625 \nQ 24.75 6.390625 31.78125 6.390625 \nQ 38.8125 6.390625 42.859375 10.171875 \nQ 46.921875 13.96875 46.921875 20.515625 \nQ 46.921875 27.09375 42.890625 30.859375 \nQ 38.875 34.625 31.78125 34.625 \nz\nM 21.921875 38.8125 \nQ 15.578125 40.375 12.03125 44.71875 \nQ 8.5 49.078125 8.5 55.328125 \nQ 8.5 64.0625 14.71875 69.140625 \nQ 20.953125 74.21875 31.78125 74.21875 \nQ 42.671875 74.21875 48.875 69.140625 \nQ 55.078125 64.0625 55.078125 55.328125 \nQ 55.078125 49.078125 51.53125 44.71875 \nQ 48 40.375 41.703125 38.8125 \nQ 48.828125 37.15625 52.796875 32.3125 \nQ 56.78125 27.484375 56.78125 20.515625 \nQ 56.78125 9.90625 50.3125 4.234375 \nQ 43.84375 -1.421875 31.78125 -1.421875 \nQ 19.734375 -1.421875 13.25 4.234375 \nQ 6.78125 9.90625 6.78125 20.515625 \nQ 6.78125 27.484375 10.78125 32.3125 \nQ 14.796875 37.15625 21.921875 38.8125 \nz\nM 18.3125 54.390625 \nQ 18.3125 48.734375 21.84375 45.5625 \nQ 25.390625 42.390625 31.78125 42.390625 \nQ 38.140625 42.390625 41.71875 45.5625 \nQ 45.3125 48.734375 45.3125 54.390625 \nQ 45.3125 60.0625 41.71875 63.234375 \nQ 38.140625 66.40625 31.78125 66.40625 \nQ 25.390625 66.40625 21.84375 63.234375 \nQ 18.3125 60.0625 18.3125 54.390625 \nz\n\" id=\"DejaVuSans-56\"/>\n      </defs>\n      <g transform=\"translate(27.240625 177.46215)scale(0.1 -0.1)\">\n       <use xlink:href=\"#DejaVuSans-49\"/>\n       <use x=\"63.623047\" xlink:href=\"#DejaVuSans-50\"/>\n       <use x=\"127.246094\" xlink:href=\"#DejaVuSans-56\"/>\n      </g>\n     </g>\n    </g>\n    <g id=\"ytick_4\">\n     <g id=\"line2d_13\">\n      <g>\n       <use style=\"stroke:#000000;stroke-width:0.8;\" x=\"53.328125\" xlink:href=\"#m5f47de9adc\" y=\"147.768373\"/>\n      </g>\n     </g>\n     <g id=\"text_14\">\n      <!-- 256 -->\n      <g transform=\"translate(27.240625 151.567592)scale(0.1 -0.1)\">\n       <use xlink:href=\"#DejaVuSans-50\"/>\n       <use x=\"63.623047\" xlink:href=\"#DejaVuSans-53\"/>\n       <use x=\"127.246094\" xlink:href=\"#DejaVuSans-54\"/>\n      </g>\n     </g>\n    </g>\n    <g id=\"ytick_5\">\n     <g id=\"line2d_14\">\n      <g>\n       <use style=\"stroke:#000000;stroke-width:0.8;\" x=\"53.328125\" xlink:href=\"#m5f47de9adc\" y=\"121.873816\"/>\n      </g>\n     </g>\n     <g id=\"text_15\">\n      <!-- 512 -->\n      <g transform=\"translate(27.240625 125.673035)scale(0.1 -0.1)\">\n       <use xlink:href=\"#DejaVuSans-53\"/>\n       <use x=\"63.623047\" xlink:href=\"#DejaVuSans-49\"/>\n       <use x=\"127.246094\" xlink:href=\"#DejaVuSans-50\"/>\n      </g>\n     </g>\n    </g>\n    <g id=\"ytick_6\">\n     <g id=\"line2d_15\">\n      <g>\n       <use style=\"stroke:#000000;stroke-width:0.8;\" x=\"53.328125\" xlink:href=\"#m5f47de9adc\" y=\"95.979258\"/>\n      </g>\n     </g>\n     <g id=\"text_16\">\n      <!-- 1024 -->\n      <g transform=\"translate(20.878125 99.778477)scale(0.1 -0.1)\">\n       <use xlink:href=\"#DejaVuSans-49\"/>\n       <use x=\"63.623047\" xlink:href=\"#DejaVuSans-48\"/>\n       <use x=\"127.246094\" xlink:href=\"#DejaVuSans-50\"/>\n       <use x=\"190.869141\" xlink:href=\"#DejaVuSans-52\"/>\n      </g>\n     </g>\n    </g>\n    <g id=\"ytick_7\">\n     <g id=\"line2d_16\">\n      <g>\n       <use style=\"stroke:#000000;stroke-width:0.8;\" x=\"53.328125\" xlink:href=\"#m5f47de9adc\" y=\"70.084701\"/>\n      </g>\n     </g>\n     <g id=\"text_17\">\n      <!-- 2048 -->\n      <g transform=\"translate(20.878125 73.88392)scale(0.1 -0.1)\">\n       <use xlink:href=\"#DejaVuSans-50\"/>\n       <use x=\"63.623047\" xlink:href=\"#DejaVuSans-48\"/>\n       <use x=\"127.246094\" xlink:href=\"#DejaVuSans-52\"/>\n       <use x=\"190.869141\" xlink:href=\"#DejaVuSans-56\"/>\n      </g>\n     </g>\n    </g>\n    <g id=\"ytick_8\">\n     <g id=\"line2d_17\">\n      <g>\n       <use style=\"stroke:#000000;stroke-width:0.8;\" x=\"53.328125\" xlink:href=\"#m5f47de9adc\" y=\"44.190143\"/>\n      </g>\n     </g>\n     <g id=\"text_18\">\n      <!-- 4096 -->\n      <g transform=\"translate(20.878125 47.989362)scale(0.1 -0.1)\">\n       <use xlink:href=\"#DejaVuSans-52\"/>\n       <use x=\"63.623047\" xlink:href=\"#DejaVuSans-48\"/>\n       <use x=\"127.246094\" xlink:href=\"#DejaVuSans-57\"/>\n       <use x=\"190.869141\" xlink:href=\"#DejaVuSans-54\"/>\n      </g>\n     </g>\n    </g>\n    <g id=\"ytick_9\">\n     <g id=\"line2d_18\">\n      <g>\n       <use style=\"stroke:#000000;stroke-width:0.8;\" x=\"53.328125\" xlink:href=\"#m5f47de9adc\" y=\"18.295586\"/>\n      </g>\n     </g>\n     <g id=\"text_19\">\n      <!-- 8192 -->\n      <g transform=\"translate(20.878125 22.094805)scale(0.1 -0.1)\">\n       <use xlink:href=\"#DejaVuSans-56\"/>\n       <use x=\"63.623047\" xlink:href=\"#DejaVuSans-49\"/>\n       <use x=\"127.246094\" xlink:href=\"#DejaVuSans-57\"/>\n       <use x=\"190.869141\" xlink:href=\"#DejaVuSans-50\"/>\n      </g>\n     </g>\n    </g>\n    <g id=\"text_20\">\n     <!-- Hz -->\n     <defs>\n      <path d=\"M 9.8125 72.90625 \nL 19.671875 72.90625 \nL 19.671875 43.015625 \nL 55.515625 43.015625 \nL 55.515625 72.90625 \nL 65.375 72.90625 \nL 65.375 0 \nL 55.515625 0 \nL 55.515625 34.71875 \nL 19.671875 34.71875 \nL 19.671875 0 \nL 9.8125 0 \nz\n\" id=\"DejaVuSans-72\"/>\n      <path d=\"M 5.515625 54.6875 \nL 48.1875 54.6875 \nL 48.1875 46.484375 \nL 14.40625 7.171875 \nL 48.1875 7.171875 \nL 48.1875 0 \nL 4.296875 0 \nL 4.296875 8.203125 \nL 38.09375 47.515625 \nL 5.515625 47.515625 \nz\n\" id=\"DejaVuSans-122\"/>\n     </defs>\n     <g transform=\"translate(14.798438 122.304375)rotate(-90)scale(0.1 -0.1)\">\n      <use xlink:href=\"#DejaVuSans-72\"/>\n      <use x=\"75.195312\" xlink:href=\"#DejaVuSans-122\"/>\n     </g>\n    </g>\n   </g>\n   <g id=\"patch_3\">\n    <path d=\"M 53.328125 224.64 \nL 53.328125 7.2 \n\" style=\"fill:none;stroke:#000000;stroke-linecap:square;stroke-linejoin:miter;stroke-width:0.8;\"/>\n   </g>\n   <g id=\"patch_4\">\n    <path d=\"M 321.168125 224.64 \nL 321.168125 7.2 \n\" style=\"fill:none;stroke:#000000;stroke-linecap:square;stroke-linejoin:miter;stroke-width:0.8;\"/>\n   </g>\n   <g id=\"patch_5\">\n    <path d=\"M 53.328125 224.64 \nL 321.168125 224.64 \n\" style=\"fill:none;stroke:#000000;stroke-linecap:square;stroke-linejoin:miter;stroke-width:0.8;\"/>\n   </g>\n   <g id=\"patch_6\">\n    <path d=\"M 53.328125 7.2 \nL 321.168125 7.2 \n\" style=\"fill:none;stroke:#000000;stroke-linecap:square;stroke-linejoin:miter;stroke-width:0.8;\"/>\n   </g>\n  </g>\n  <g id=\"axes_2\">\n   <g id=\"patch_7\">\n    <path clip-path=\"url(#p7433af6935)\" d=\"M 337.908125 224.64 \nL 337.908125 223.790625 \nL 337.908125 8.049375 \nL 337.908125 7.2 \nL 348.780125 7.2 \nL 348.780125 8.049375 \nL 348.780125 223.790625 \nL 348.780125 224.64 \nz\n\" style=\"fill:#ffffff;stroke:#ffffff;stroke-linejoin:miter;stroke-width:0.01;\"/>\n   </g>\n   <image height=\"217\" id=\"imaged772a61822\" transform=\"scale(1 -1)translate(0 -217)\" width=\"11\" x=\"338\" xlink:href=\"data:image/png;base64,\niVBORw0KGgoAAAANSUhEUgAAAAsAAADZCAYAAAD2WsoCAAAABHNCSVQICAgIfAhkiAAAAXNJREFUaIHV2ksOwyAMBFAb6P1vXHoF3mIkN+vRaD6GhCTd9bn1eJ3qfsXW6drv4OoF4AJwGzNoJubVR2SkDBpYZKwFBom5O1ZKLOfVnxBzLrpcGrsoDambRpQMylawqW7TLA3e2OqmNAq2AiolaZDAcB/cl9IAZgJjGmLQtlwy+H6dJmZ5ksE0pJR3rEYnzG1pAHMwDTIYi27nNMdKwakD8AZ0UrPNRorZhj8mA9N4Pg4mh/8fZ0PQugahlODqtpxFs8hIDhJotrqlwSGrG/c6YX4nxlKImUbUDM4oBZlzaeS2rxEydn9FBjDb8JvBIXWPaLCXpLGgbjJowy+agzI2pQHMVIoZpHPKTjGXGQRmlAHg9f4iEJlzmom54cHuwHsF1iwyLDo5llIaxEya5ShNMjAN+ZgYkxE0CG9wpmiuFdNsaQyJLpeGfNAfopmYpxj8xzRmaCaw3FPukf83hqRBv76YwZTmS5pzs5Gr255kJqTxA16NLxlQTeAaAAAAAElFTkSuQmCC\" y=\"-7\"/>\n   <g id=\"matplotlib.axis_3\"/>\n   <g id=\"matplotlib.axis_4\">\n    <g id=\"ytick_10\">\n     <g id=\"line2d_19\">\n      <defs>\n       <path d=\"M 0 0 \nL 3.5 0 \n\" id=\"m9ecbeecfc4\" style=\"stroke:#000000;stroke-width:0.8;\"/>\n      </defs>\n      <g>\n       <use style=\"stroke:#000000;stroke-width:0.8;\" x=\"348.780125\" xlink:href=\"#m9ecbeecfc4\" y=\"224.64\"/>\n      </g>\n     </g>\n     <g id=\"text_21\">\n      <!-- -50 dB -->\n      <defs>\n       <path d=\"M 4.890625 31.390625 \nL 31.203125 31.390625 \nL 31.203125 23.390625 \nL 4.890625 23.390625 \nz\n\" id=\"DejaVuSans-45\"/>\n       <path id=\"DejaVuSans-32\"/>\n       <path d=\"M 45.40625 46.390625 \nL 45.40625 75.984375 \nL 54.390625 75.984375 \nL 54.390625 0 \nL 45.40625 0 \nL 45.40625 8.203125 \nQ 42.578125 3.328125 38.25 0.953125 \nQ 33.9375 -1.421875 27.875 -1.421875 \nQ 17.96875 -1.421875 11.734375 6.484375 \nQ 5.515625 14.40625 5.515625 27.296875 \nQ 5.515625 40.1875 11.734375 48.09375 \nQ 17.96875 56 27.875 56 \nQ 33.9375 56 38.25 53.625 \nQ 42.578125 51.265625 45.40625 46.390625 \nz\nM 14.796875 27.296875 \nQ 14.796875 17.390625 18.875 11.75 \nQ 22.953125 6.109375 30.078125 6.109375 \nQ 37.203125 6.109375 41.296875 11.75 \nQ 45.40625 17.390625 45.40625 27.296875 \nQ 45.40625 37.203125 41.296875 42.84375 \nQ 37.203125 48.484375 30.078125 48.484375 \nQ 22.953125 48.484375 18.875 42.84375 \nQ 14.796875 37.203125 14.796875 27.296875 \nz\n\" id=\"DejaVuSans-100\"/>\n       <path d=\"M 19.671875 34.8125 \nL 19.671875 8.109375 \nL 35.5 8.109375 \nQ 43.453125 8.109375 47.28125 11.40625 \nQ 51.125 14.703125 51.125 21.484375 \nQ 51.125 28.328125 47.28125 31.5625 \nQ 43.453125 34.8125 35.5 34.8125 \nz\nM 19.671875 64.796875 \nL 19.671875 42.828125 \nL 34.28125 42.828125 \nQ 41.5 42.828125 45.03125 45.53125 \nQ 48.578125 48.25 48.578125 53.8125 \nQ 48.578125 59.328125 45.03125 62.0625 \nQ 41.5 64.796875 34.28125 64.796875 \nz\nM 9.8125 72.90625 \nL 35.015625 72.90625 \nQ 46.296875 72.90625 52.390625 68.21875 \nQ 58.5 63.53125 58.5 54.890625 \nQ 58.5 48.1875 55.375 44.234375 \nQ 52.25 40.28125 46.1875 39.3125 \nQ 53.46875 37.75 57.5 32.78125 \nQ 61.53125 27.828125 61.53125 20.40625 \nQ 61.53125 10.640625 54.890625 5.3125 \nQ 48.25 0 35.984375 0 \nL 9.8125 0 \nz\n\" id=\"DejaVuSans-66\"/>\n      </defs>\n      <g transform=\"translate(355.780125 228.439219)scale(0.1 -0.1)\">\n       <use xlink:href=\"#DejaVuSans-45\"/>\n       <use x=\"36.083984\" xlink:href=\"#DejaVuSans-53\"/>\n       <use x=\"99.707031\" xlink:href=\"#DejaVuSans-48\"/>\n       <use x=\"163.330078\" xlink:href=\"#DejaVuSans-32\"/>\n       <use x=\"195.117188\" xlink:href=\"#DejaVuSans-100\"/>\n       <use x=\"258.59375\" xlink:href=\"#DejaVuSans-66\"/>\n      </g>\n     </g>\n    </g>\n    <g id=\"ytick_11\">\n     <g id=\"line2d_20\">\n      <g>\n       <use style=\"stroke:#000000;stroke-width:0.8;\" x=\"348.780125\" xlink:href=\"#m9ecbeecfc4\" y=\"186.097495\"/>\n      </g>\n     </g>\n     <g id=\"text_22\">\n      <!-- -40 dB -->\n      <g transform=\"translate(355.780125 189.896714)scale(0.1 -0.1)\">\n       <use xlink:href=\"#DejaVuSans-45\"/>\n       <use x=\"36.083984\" xlink:href=\"#DejaVuSans-52\"/>\n       <use x=\"99.707031\" xlink:href=\"#DejaVuSans-48\"/>\n       <use x=\"163.330078\" xlink:href=\"#DejaVuSans-32\"/>\n       <use x=\"195.117188\" xlink:href=\"#DejaVuSans-100\"/>\n       <use x=\"258.59375\" xlink:href=\"#DejaVuSans-66\"/>\n      </g>\n     </g>\n    </g>\n    <g id=\"ytick_12\">\n     <g id=\"line2d_21\">\n      <g>\n       <use style=\"stroke:#000000;stroke-width:0.8;\" x=\"348.780125\" xlink:href=\"#m9ecbeecfc4\" y=\"147.55499\"/>\n      </g>\n     </g>\n     <g id=\"text_23\">\n      <!-- -30 dB -->\n      <g transform=\"translate(355.780125 151.354209)scale(0.1 -0.1)\">\n       <use xlink:href=\"#DejaVuSans-45\"/>\n       <use x=\"36.083984\" xlink:href=\"#DejaVuSans-51\"/>\n       <use x=\"99.707031\" xlink:href=\"#DejaVuSans-48\"/>\n       <use x=\"163.330078\" xlink:href=\"#DejaVuSans-32\"/>\n       <use x=\"195.117188\" xlink:href=\"#DejaVuSans-100\"/>\n       <use x=\"258.59375\" xlink:href=\"#DejaVuSans-66\"/>\n      </g>\n     </g>\n    </g>\n    <g id=\"ytick_13\">\n     <g id=\"line2d_22\">\n      <g>\n       <use style=\"stroke:#000000;stroke-width:0.8;\" x=\"348.780125\" xlink:href=\"#m9ecbeecfc4\" y=\"109.012485\"/>\n      </g>\n     </g>\n     <g id=\"text_24\">\n      <!-- -20 dB -->\n      <g transform=\"translate(355.780125 112.811704)scale(0.1 -0.1)\">\n       <use xlink:href=\"#DejaVuSans-45\"/>\n       <use x=\"36.083984\" xlink:href=\"#DejaVuSans-50\"/>\n       <use x=\"99.707031\" xlink:href=\"#DejaVuSans-48\"/>\n       <use x=\"163.330078\" xlink:href=\"#DejaVuSans-32\"/>\n       <use x=\"195.117188\" xlink:href=\"#DejaVuSans-100\"/>\n       <use x=\"258.59375\" xlink:href=\"#DejaVuSans-66\"/>\n      </g>\n     </g>\n    </g>\n    <g id=\"ytick_14\">\n     <g id=\"line2d_23\">\n      <g>\n       <use style=\"stroke:#000000;stroke-width:0.8;\" x=\"348.780125\" xlink:href=\"#m9ecbeecfc4\" y=\"70.469981\"/>\n      </g>\n     </g>\n     <g id=\"text_25\">\n      <!-- -10 dB -->\n      <g transform=\"translate(355.780125 74.269199)scale(0.1 -0.1)\">\n       <use xlink:href=\"#DejaVuSans-45\"/>\n       <use x=\"36.083984\" xlink:href=\"#DejaVuSans-49\"/>\n       <use x=\"99.707031\" xlink:href=\"#DejaVuSans-48\"/>\n       <use x=\"163.330078\" xlink:href=\"#DejaVuSans-32\"/>\n       <use x=\"195.117188\" xlink:href=\"#DejaVuSans-100\"/>\n       <use x=\"258.59375\" xlink:href=\"#DejaVuSans-66\"/>\n      </g>\n     </g>\n    </g>\n    <g id=\"ytick_15\">\n     <g id=\"line2d_24\">\n      <g>\n       <use style=\"stroke:#000000;stroke-width:0.8;\" x=\"348.780125\" xlink:href=\"#m9ecbeecfc4\" y=\"31.927476\"/>\n      </g>\n     </g>\n     <g id=\"text_26\">\n      <!-- +0 dB -->\n      <defs>\n       <path d=\"M 46 62.703125 \nL 46 35.5 \nL 73.1875 35.5 \nL 73.1875 27.203125 \nL 46 27.203125 \nL 46 0 \nL 37.796875 0 \nL 37.796875 27.203125 \nL 10.59375 27.203125 \nL 10.59375 35.5 \nL 37.796875 35.5 \nL 37.796875 62.703125 \nz\n\" id=\"DejaVuSans-43\"/>\n      </defs>\n      <g transform=\"translate(355.780125 35.726695)scale(0.1 -0.1)\">\n       <use xlink:href=\"#DejaVuSans-43\"/>\n       <use x=\"83.789062\" xlink:href=\"#DejaVuSans-48\"/>\n       <use x=\"147.412109\" xlink:href=\"#DejaVuSans-32\"/>\n       <use x=\"179.199219\" xlink:href=\"#DejaVuSans-100\"/>\n       <use x=\"242.675781\" xlink:href=\"#DejaVuSans-66\"/>\n      </g>\n     </g>\n    </g>\n   </g>\n   <g id=\"patch_8\">\n    <path d=\"M 337.908125 224.64 \nL 337.908125 223.790625 \nL 337.908125 8.049375 \nL 337.908125 7.2 \nL 348.780125 7.2 \nL 348.780125 8.049375 \nL 348.780125 223.790625 \nL 348.780125 224.64 \nz\n\" style=\"fill:none;stroke:#000000;stroke-linejoin:miter;stroke-width:0.8;\"/>\n   </g>\n  </g>\n </g>\n <defs>\n  <clipPath id=\"p7433af6935\">\n   <rect height=\"217.44\" width=\"10.872\" x=\"337.908125\" y=\"7.2\"/>\n  </clipPath>\n </defs>\n</svg>\n",
      "image/png": "[encoded data removed]"
     },
     "metadata": {
      "needs_background": "light"
     }
    }
   ],
   "source": [
    "stage4s = mag_to_decibel(stftm_to_melgram(stft_to_stftm(waveform_to_stft(norm_layer(dataset[0])))))\n",
    "\n",
    "rfm = RandomFreqMask(15, 0.2, 0.75)\n",
    "rtm = RandomTimeMask(15, 0.2, 0.75)\n",
    "arr2 = np.array(rfm(rtm(stage4s))[0])\n",
    "arr2 = arr2.reshape(101,128)\n",
    "librosa.display.specshow(arr2,sr=22050,hop_length=hop_length,x_axis='time', y_axis='log')\n",
    "plt.colorbar(format='%+2.0f dB')"
   ]
  },
  {
   "source": [
    "stage4s.shape"
   ],
   "cell_type": "code",
   "metadata": {},
   "execution_count": 44,
   "outputs": [
    {
     "output_type": "execute_result",
     "data": {
      "text/plain": [
       "TensorShape([15, 101, 128, 1])"
      ]
     },
     "metadata": {},
     "execution_count": 44
    }
   ]
  },
  {
   "cell_type": "code",
   "execution_count": 272,
   "metadata": {},
   "outputs": [
    {
     "output_type": "execute_result",
     "data": {
      "text/plain": [
       "1.0"
      ]
     },
     "metadata": {},
     "execution_count": 272
    }
   ],
   "source": [
    "a = norm_layer(wav)\n",
    "np.max(a)"
   ]
  },
  {
   "cell_type": "code",
   "execution_count": 36,
   "metadata": {},
   "outputs": [
    {
     "output_type": "execute_result",
     "data": {
      "text/plain": [
       "<tf.Tensor: shape=(), dtype=bool, numpy=True>"
      ]
     },
     "metadata": {},
     "execution_count": 36
    }
   ],
   "source": [
    "tf.random.Generator.from_seed(1).uniform(shape=())"
   ]
  }
 ]
}